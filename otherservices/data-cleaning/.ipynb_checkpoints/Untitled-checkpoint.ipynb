{
 "cells": [
  {
   "cell_type": "code",
   "execution_count": 9,
   "metadata": {},
   "outputs": [],
   "source": [
    "import pandas as pd\n",
    "import numpy as np"
   ]
  },
  {
   "cell_type": "code",
   "execution_count": 11,
   "metadata": {},
   "outputs": [],
   "source": [
    "originalFile=pd.read_excel(\"nutrition.xlsx\",header=3)"
   ]
  },
  {
   "cell_type": "code",
   "execution_count": 41,
   "metadata": {},
   "outputs": [
    {
     "data": {
      "text/plain": [
       "Index(['ID', 'name', 'Food Group', 'Calories', 'Fat (g)', 'Protein (g)',\n",
       "       'Carbohydrate (g)', 'Sugars (g)', 'Fiber (g)', 'Cholesterol (mg)',\n",
       "       ...\n",
       "       'Serving Description 5 (g)', 'Serving Weight 6 (g)',\n",
       "       'Serving Description 6 (g)', 'Serving Weight 7 (g)',\n",
       "       'Serving Description 7 (g)', 'Serving Weight 8 (g)',\n",
       "       'Serving Description 8 (g)', 'Serving Weight 9 (g)',\n",
       "       'Serving Description 9 (g)', '200 Calorie Weight (g)'],\n",
       "      dtype='object', length=117)"
      ]
     },
     "execution_count": 41,
     "metadata": {},
     "output_type": "execute_result"
    }
   ],
   "source": [
    "columns=originalFile.columns\n",
    "columns"
   ]
  },
  {
   "cell_type": "code",
   "execution_count": 42,
   "metadata": {},
   "outputs": [
    {
     "data": {
      "text/plain": [
       "117"
      ]
     },
     "execution_count": 42,
     "metadata": {},
     "output_type": "execute_result"
    }
   ],
   "source": [
    "len(columns)"
   ]
  },
  {
   "cell_type": "code",
   "execution_count": 43,
   "metadata": {},
   "outputs": [],
   "source": [
    "oFood=pd.read_csv(\"food.csv\")"
   ]
  },
  {
   "cell_type": "code",
   "execution_count": 60,
   "metadata": {},
   "outputs": [
    {
     "name": "stdout",
     "output_type": "stream",
     "text": [
      "Index(['Category', 'Description', 'Nutrient Data Bank Number',\n",
      "       'Data.Alpha Carotene', 'Data.Ash', 'Data.Beta Carotene',\n",
      "       'Data.Beta Cryptoxanthin', 'Data.Carbohydrate', 'Data.Cholesterol',\n",
      "       'Data.Choline', 'Data.Fiber', 'Data.Kilocalories',\n",
      "       'Data.Lutein and Zeaxanthin', 'Data.Lycopene', 'Data.Manganese',\n",
      "       'Data.Niacin', 'Data.Pantothenic Acid', 'Data.Protein',\n",
      "       'Data.Refuse Percentage', 'Data.Retinol', 'Data.Riboflavin',\n",
      "       'Data.Selenium', 'Data.Sugar Total', 'Data.Thiamin', 'Data.Water',\n",
      "       'Data.Fat.Monosaturated Fat', 'Data.Fat.Polysaturated Fat',\n",
      "       'Data.Fat.Saturated Fat', 'Data.Fat.Total Lipid',\n",
      "       'Data.Household Weights.1st Household Weight',\n",
      "       'Data.Household Weights.1st Household Weight Description',\n",
      "       'Data.Household Weights.2nd Household Weight',\n",
      "       'Data.Household Weights.2nd Household Weight Description',\n",
      "       'Data.Major Minerals.Calcium', 'Data.Major Minerals.Copper',\n",
      "       'Data.Major Minerals.Iron', 'Data.Major Minerals.Magnesium',\n",
      "       'Data.Major Minerals.Phosphorus', 'Data.Major Minerals.Potassium',\n",
      "       'Data.Major Minerals.Sodium', 'Data.Major Minerals.Zinc',\n",
      "       'Data.Vitamins.Vitamin A - IU', 'Data.Vitamins.Vitamin A - RAE',\n",
      "       'Data.Vitamins.Vitamin B12', 'Data.Vitamins.Vitamin B6',\n",
      "       'Data.Vitamins.Vitamin C', 'Data.Vitamins.Vitamin E',\n",
      "       'Data.Vitamins.Vitamin K'],\n",
      "      dtype='object')\n",
      "columns: 48\n"
     ]
    }
   ],
   "source": [
    "columns=oFood.columns\n",
    "print(columns)\n",
    "print(\"columns:\",len(columns))"
   ]
  },
  {
   "cell_type": "code",
   "execution_count": 58,
   "metadata": {},
   "outputs": [
    {
     "name": "stdout",
     "output_type": "stream",
     "text": [
      "156     NaN\n",
      "157     NaN\n",
      "158     NaN\n",
      "159     NaN\n",
      "160     NaN\n",
      "       ... \n",
      "7407    NaN\n",
      "7408    NaN\n",
      "7410    NaN\n",
      "7411    NaN\n",
      "7412    NaN\n",
      "Name: Data.Household Weights.1st Household Weight Description, Length: 470, dtype: object\n",
      "7       NaN\n",
      "9       NaN\n",
      "27      NaN\n",
      "114     NaN\n",
      "115     NaN\n",
      "       ... \n",
      "7408    NaN\n",
      "7409    NaN\n",
      "7410    NaN\n",
      "7411    NaN\n",
      "7412    NaN\n",
      "Name: Data.Household Weights.2nd Household Weight Description, Length: 3100, dtype: object\n"
     ]
    }
   ],
   "source": [
    "for i in columns:\n",
    "    if oFood[i].isnull().any()== True:\n",
    "        print(oFood[oFood[i].isnull()][i])\n",
    "        \n",
    "        "
   ]
  },
  {
   "cell_type": "code",
   "execution_count": 55,
   "metadata": {},
   "outputs": [
    {
     "data": {
      "text/html": [
       "<div>\n",
       "<style scoped>\n",
       "    .dataframe tbody tr th:only-of-type {\n",
       "        vertical-align: middle;\n",
       "    }\n",
       "\n",
       "    .dataframe tbody tr th {\n",
       "        vertical-align: top;\n",
       "    }\n",
       "\n",
       "    .dataframe thead th {\n",
       "        text-align: right;\n",
       "    }\n",
       "</style>\n",
       "<table border=\"1\" class=\"dataframe\">\n",
       "  <thead>\n",
       "    <tr style=\"text-align: right;\">\n",
       "      <th></th>\n",
       "      <th>Category</th>\n",
       "      <th>Description</th>\n",
       "      <th>Nutrient Data Bank Number</th>\n",
       "      <th>Data.Alpha Carotene</th>\n",
       "      <th>Data.Ash</th>\n",
       "      <th>Data.Beta Carotene</th>\n",
       "      <th>Data.Beta Cryptoxanthin</th>\n",
       "      <th>Data.Carbohydrate</th>\n",
       "      <th>Data.Cholesterol</th>\n",
       "      <th>Data.Choline</th>\n",
       "      <th>...</th>\n",
       "      <th>Data.Major Minerals.Potassium</th>\n",
       "      <th>Data.Major Minerals.Sodium</th>\n",
       "      <th>Data.Major Minerals.Zinc</th>\n",
       "      <th>Data.Vitamins.Vitamin A - IU</th>\n",
       "      <th>Data.Vitamins.Vitamin A - RAE</th>\n",
       "      <th>Data.Vitamins.Vitamin B12</th>\n",
       "      <th>Data.Vitamins.Vitamin B6</th>\n",
       "      <th>Data.Vitamins.Vitamin C</th>\n",
       "      <th>Data.Vitamins.Vitamin E</th>\n",
       "      <th>Data.Vitamins.Vitamin K</th>\n",
       "    </tr>\n",
       "  </thead>\n",
       "  <tbody>\n",
       "  </tbody>\n",
       "</table>\n",
       "<p>0 rows × 48 columns</p>\n",
       "</div>"
      ],
      "text/plain": [
       "Empty DataFrame\n",
       "Columns: [Category, Description, Nutrient Data Bank Number, Data.Alpha Carotene, Data.Ash, Data.Beta Carotene, Data.Beta Cryptoxanthin, Data.Carbohydrate, Data.Cholesterol, Data.Choline, Data.Fiber, Data.Kilocalories, Data.Lutein and Zeaxanthin, Data.Lycopene, Data.Manganese, Data.Niacin, Data.Pantothenic Acid, Data.Protein, Data.Refuse Percentage, Data.Retinol, Data.Riboflavin, Data.Selenium, Data.Sugar Total, Data.Thiamin, Data.Water, Data.Fat.Monosaturated Fat, Data.Fat.Polysaturated Fat, Data.Fat.Saturated Fat, Data.Fat.Total Lipid, Data.Household Weights.1st Household Weight, Data.Household Weights.1st Household Weight Description, Data.Household Weights.2nd Household Weight, Data.Household Weights.2nd Household Weight Description, Data.Major Minerals.Calcium, Data.Major Minerals.Copper, Data.Major Minerals.Iron, Data.Major Minerals.Magnesium, Data.Major Minerals.Phosphorus, Data.Major Minerals.Potassium, Data.Major Minerals.Sodium, Data.Major Minerals.Zinc, Data.Vitamins.Vitamin A - IU, Data.Vitamins.Vitamin A - RAE, Data.Vitamins.Vitamin B12, Data.Vitamins.Vitamin B6, Data.Vitamins.Vitamin C, Data.Vitamins.Vitamin E, Data.Vitamins.Vitamin K]\n",
       "Index: []\n",
       "\n",
       "[0 rows x 48 columns]"
      ]
     },
     "execution_count": 55,
     "metadata": {},
     "output_type": "execute_result"
    }
   ],
   "source": []
  },
  {
   "cell_type": "code",
   "execution_count": null,
   "metadata": {},
   "outputs": [],
   "source": []
  }
 ],
 "metadata": {
  "kernelspec": {
   "display_name": "Python 3",
   "language": "python",
   "name": "python3"
  },
  "language_info": {
   "codemirror_mode": {
    "name": "ipython",
    "version": 3
   },
   "file_extension": ".py",
   "mimetype": "text/x-python",
   "name": "python",
   "nbconvert_exporter": "python",
   "pygments_lexer": "ipython3",
   "version": "3.6.6"
  }
 },
 "nbformat": 4,
 "nbformat_minor": 2
}
